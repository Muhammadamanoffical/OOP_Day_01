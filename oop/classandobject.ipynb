{
 "cells": [
  {
   "cell_type": "markdown",
   "id": "419cff12-3cbf-4f84-8afb-261f2e6bd2b3",
   "metadata": {},
   "source": [
    "# Class and Object\n"
   ]
  },
  {
   "cell_type": "code",
   "execution_count": 11,
   "id": "b52a42fd-3871-4288-ac97-d8785045ea98",
   "metadata": {},
   "outputs": [],
   "source": [
    "class Computer:\n",
    "    # characteristics/properties/attributes (in Python called variable)\n",
    "    ram      =\"8Gb\"\n",
    "    processor =\"intel core i9\"\n",
    "    storage   =\"1tB\"\n",
    "    model     =\"DELL\"\n",
    "    price     =60000\n",
    "    # actions/behavior\n",
    "    #function create inside called(method)\n",
    "    #there are two types of method \n",
    "    # class method without self parameter \n",
    "    #object method with self \n",
    "    def coding(self):\n",
    "        print(\"coding...\")\n",
    "    def Designing(self):\n",
    "        print(\"Designing...\")\n",
    "    def browsing(self):\n",
    "        print(\"browsing....\")"
   ]
  },
  {
   "cell_type": "code",
   "execution_count": 13,
   "id": "6d382476-363e-477e-86e1-48262201a389",
   "metadata": {},
   "outputs": [
    {
     "data": {
      "text/plain": [
       "type"
      ]
     },
     "execution_count": 13,
     "metadata": {},
     "output_type": "execute_result"
    }
   ],
   "source": [
    "type(Computer)"
   ]
  },
  {
   "cell_type": "markdown",
   "id": "05a2b0e6-f500-44d9-9310-03d65c51b228",
   "metadata": {},
   "source": [
    "# object (is an instance of class)\n",
    "    -it will be  a copy of class\n",
    "    -it will follow its clas"
   ]
  },
  {
   "cell_type": "code",
   "execution_count": 18,
   "id": "a3a0ccaf-de4e-488c-8028-1d15f6a58e77",
   "metadata": {},
   "outputs": [],
   "source": [
    "com1=Computer()\n",
    "com2=Computer()\n",
    "com3=Computer()\n"
   ]
  },
  {
   "cell_type": "code",
   "execution_count": 20,
   "id": "07d44a8a-149b-4a97-b73a-5e91332028ec",
   "metadata": {},
   "outputs": [
    {
     "name": "stdout",
     "output_type": "stream",
     "text": [
      "browsing....\n"
     ]
    }
   ],
   "source": [
    "com1.browsing()"
   ]
  },
  {
   "cell_type": "code",
   "execution_count": 24,
   "id": "bc467251-c421-44ef-b94f-809f1f395a82",
   "metadata": {},
   "outputs": [],
   "source": [
    "# dymanic class :- to make dymanic variable in class by using intialize (constructor)\n",
    "# how to make def __ init __(self,price,model,ram,processor,storage):"
   ]
  },
  {
   "cell_type": "code",
   "execution_count": 38,
   "id": "9a3cd99a-d003-4b14-8ea6-8465e1ba006c",
   "metadata": {},
   "outputs": [],
   "source": [
    "class Computer:\n",
    "    #initializer\n",
    "    def __init__(self,price,model,ram,processor,storage):\n",
    "        self.model=model\n",
    "        self.ram=ram\n",
    "        self.processor=processor\n",
    "        self.storage=storage\n",
    "    \n",
    "    # actions/behavior\n",
    "    def coding(self):\n",
    "        print(f\"coding on {self.model}\")\n",
    "    def Designing(self):\n",
    "        print(f\"Designing on {self.model}\")\n",
    "    def browsing(self):\n",
    "        print(f\"browsing on {self.model}\")"
   ]
  },
  {
   "cell_type": "code",
   "execution_count": 32,
   "id": "ac73ed2f-7216-4aee-87bc-2321152d8583",
   "metadata": {},
   "outputs": [
    {
     "ename": "TypeError",
     "evalue": "Computer.__init__() missing 5 required positional arguments: 'price', 'model', 'ram', 'processor', and 'storage'",
     "output_type": "error",
     "traceback": [
      "\u001b[1;31m---------------------------------------------------------------------------\u001b[0m",
      "\u001b[1;31mTypeError\u001b[0m                                 Traceback (most recent call last)",
      "Cell \u001b[1;32mIn[32], line 1\u001b[0m\n\u001b[1;32m----> 1\u001b[0m c1\u001b[38;5;241m=\u001b[39mComputer()\n",
      "\u001b[1;31mTypeError\u001b[0m: Computer.__init__() missing 5 required positional arguments: 'price', 'model', 'ram', 'processor', and 'storage'"
     ]
    }
   ],
   "source": [
    "c1=Computer()"
   ]
  },
  {
   "cell_type": "code",
   "execution_count": 30,
   "id": "4d757079-667c-4bd1-a040-a5909b81002b",
   "metadata": {},
   "outputs": [],
   "source": [
    "# when object is create when object run to consturstor\n",
    "#if you dont make consturctor  python make by default constructor\n"
   ]
  },
  {
   "cell_type": "code",
   "execution_count": 40,
   "id": "9a859cf7-ef52-4dad-9942-003bb15b5d4f",
   "metadata": {},
   "outputs": [
    {
     "ename": "TypeError",
     "evalue": "Computer.__init__() missing 1 required positional argument: 'storage'",
     "output_type": "error",
     "traceback": [
      "\u001b[1;31m---------------------------------------------------------------------------\u001b[0m",
      "\u001b[1;31mTypeError\u001b[0m                                 Traceback (most recent call last)",
      "Cell \u001b[1;32mIn[40], line 1\u001b[0m\n\u001b[1;32m----> 1\u001b[0m c1\u001b[38;5;241m=\u001b[39mComputer(\u001b[38;5;124m\"\u001b[39m\u001b[38;5;124m60000\u001b[39m\u001b[38;5;124m\"\u001b[39m,\u001b[38;5;124m\"\u001b[39m\u001b[38;5;124mHP\u001b[39m\u001b[38;5;124m\"\u001b[39m,\u001b[38;5;124m\"\u001b[39m\u001b[38;5;124mcore i9\u001b[39m\u001b[38;5;124m\"\u001b[39m,\u001b[38;5;124m\"\u001b[39m\u001b[38;5;124m16TB\u001b[39m\u001b[38;5;124m\"\u001b[39m)\n",
      "\u001b[1;31mTypeError\u001b[0m: Computer.__init__() missing 1 required positional argument: 'storage'"
     ]
    }
   ],
   "source": [
    "c1=Computer(\"60000\",\"HP\",\"core i9\",\"16TB\")"
   ]
  },
  {
   "cell_type": "code",
   "execution_count": 48,
   "id": "34656d46-b2dd-4e8a-9741-cd9ae705c9e3",
   "metadata": {},
   "outputs": [],
   "source": [
    "c1=Computer(\"60000\",\"HP\",\"16GB\",\"core i9\",\"16TB\")\n",
    "c2=Computer(\"60000\",\"DELL\",\"16GB\",\"core i9\",\"16TB\")"
   ]
  },
  {
   "cell_type": "code",
   "execution_count": 50,
   "id": "4b18a377-2eff-4104-807e-cfccde418d70",
   "metadata": {},
   "outputs": [
    {
     "name": "stdout",
     "output_type": "stream",
     "text": [
      "browsing on HP\n",
      "Designing on DELL\n"
     ]
    }
   ],
   "source": [
    "c1.browsing()\n",
    "c2.Designing()"
   ]
  },
  {
   "cell_type": "code",
   "execution_count": 52,
   "id": "52e388ba-d7a0-45ca-b3f0-2dbb603a3c9f",
   "metadata": {},
   "outputs": [
    {
     "name": "stdout",
     "output_type": "stream",
     "text": [
      "coding on HP\n"
     ]
    }
   ],
   "source": [
    "Computer.coding(c1)"
   ]
  },
  {
   "cell_type": "code",
   "execution_count": 54,
   "id": "a575ad4c-e354-4640-88e3-576060671c8a",
   "metadata": {},
   "outputs": [
    {
     "name": "stdout",
     "output_type": "stream",
     "text": [
      "browsing on DELL\n"
     ]
    }
   ],
   "source": [
    "Computer.browsing(c2)"
   ]
  },
  {
   "cell_type": "code",
   "execution_count": 70,
   "id": "1d927f3c-2ace-4b88-b76a-0ac3b0a8f307",
   "metadata": {},
   "outputs": [],
   "source": [
    "class Student:\n",
    "    def __init__(self,name,age,fname):\n",
    "        self.name=name\n",
    "        self.age=age\n",
    "        self.fname=fname\n",
    "    \n",
    "    def D(self):\n",
    "            print(f\"your name is {self.name}\")\n",
    "    def A(self):\n",
    "            print(f\"your age is {self.age}\")\n",
    "            "
   ]
  },
  {
   "cell_type": "code",
   "execution_count": 72,
   "id": "dddd23de-9504-45e0-94ae-7aec629e1406",
   "metadata": {},
   "outputs": [],
   "source": [
    "s1=Student(\"Aman\",20,\"ali\")"
   ]
  },
  {
   "cell_type": "code",
   "execution_count": 77,
   "id": "1055aea6-b4f0-422b-8f55-a89f4908a1c4",
   "metadata": {},
   "outputs": [
    {
     "name": "stdout",
     "output_type": "stream",
     "text": [
      "your age is 20\n"
     ]
    }
   ],
   "source": [
    "s1.A()"
   ]
  },
  {
   "cell_type": "code",
   "execution_count": 81,
   "id": "be94d0ea-8a80-4269-80c9-9d293c57d224",
   "metadata": {},
   "outputs": [],
   "source": [
    "s1.name=\"Aman Ali\""
   ]
  },
  {
   "cell_type": "code",
   "execution_count": 85,
   "id": "b02d3a72-9a1b-4f92-aa83-58b46483edcf",
   "metadata": {},
   "outputs": [
    {
     "name": "stdout",
     "output_type": "stream",
     "text": [
      "your name is Aman Ali\n"
     ]
    }
   ],
   "source": [
    "s1.D()"
   ]
  },
  {
   "cell_type": "markdown",
   "id": "4393935e-c63d-4fdc-b349-95ff3141add4",
   "metadata": {},
   "source": [
    "# Pillars of OOP:\n",
    "## (1)--Encapsulation\n",
    "## (2)--inheritance\n",
    "## (3)--Polyphorism\n",
    "## (4)--Abstraction\n",
    "\n",
    "\n"
   ]
  },
  {
   "cell_type": "code",
   "execution_count": null,
   "id": "cc8144c8-339c-4701-927d-b09e429bdec5",
   "metadata": {},
   "outputs": [],
   "source": []
  }
 ],
 "metadata": {
  "kernelspec": {
   "display_name": "Python [conda env:base] *",
   "language": "python",
   "name": "conda-base-py"
  },
  "language_info": {
   "codemirror_mode": {
    "name": "ipython",
    "version": 3
   },
   "file_extension": ".py",
   "mimetype": "text/x-python",
   "name": "python",
   "nbconvert_exporter": "python",
   "pygments_lexer": "ipython3",
   "version": "3.12.7"
  }
 },
 "nbformat": 4,
 "nbformat_minor": 5
}
